{
 "cells": [
  {
   "cell_type": "raw",
   "metadata": {},
   "source": [
    "\"\"\"\n",
    "My goal here was to show that we can recover the geometrical arrangement of the world given \n",
    "the laws and a rich enough set of events. Here, I've used a simple mosaic world in which every\n",
    "'pixel' has two quantities. The simple law of nature is that the value of the second quantity \n",
    "is the average of nearby quantity 1 values. \n",
    "\n",
    "This little proof of concept randomly initializes the q1 values for a 5x5 array of pixels, determines the q2 values \n",
    "according to the averaging law, and then shuffles the pixels. Then we show it's possible to reconstruct the original \n",
    "arrangement by finding the unique arrangement that satisfies our law.\n",
    "\n",
    "\"\"\""
   ]
  },
  {
   "cell_type": "code",
   "execution_count": 2,
   "metadata": {
    "collapsed": true
   },
   "outputs": [],
   "source": [
    "% matplotlib inline\n",
    "import numpy as np\n",
    "from matplotlib import pyplot as plt\n",
    "import itertools\n",
    "import time"
   ]
  },
  {
   "cell_type": "code",
   "execution_count": 3,
   "metadata": {
    "collapsed": true
   },
   "outputs": [],
   "source": [
    "class Color_world:\n",
    "    # creates a randomized color world! This is a world of xsize x ysize \n",
    "    # pixels. Each pixel has *two* quantity values between 0 and 1. \n",
    "    # The first quantity q1 is initiallized randomly. The second, q2, is determined\n",
    "    # by the average of the q1 values of neighboring pixels, where each\n",
    "    # pixel 3 (corners), 5(sides), or 8 neighbors.\n",
    "    \n",
    "    def __init__(self):\n",
    "        pass\n",
    "        \n",
    "    def initialize_random(self,xsize,ysize):\n",
    "        self.xsize = xsize\n",
    "        self.ysize = ysize\n",
    "        self.world = np.zeros((xsize,ysize,2))\n",
    "        self.world[:,:,0] = np.random.random((xsize,ysize))\n",
    "        self.pixel_law()\n",
    "    \n",
    "    def initialize(self,world):\n",
    "        self.world = world\n",
    "        self.xsize = len(world)  # the width of \n",
    "        self.ysize = len(world[0])\n",
    "        self.pixel_law()\n",
    "        \n",
    "    def pixel_law(self):\n",
    "        for i, row in enumerate(self.world):\n",
    "            for j, pixel in enumerate(row):\n",
    "#                 pixel[1] = 1\n",
    "                pixel[1] = mean_neighbors(i,j,self.world)\n",
    "\n",
    "    def draw(self):\n",
    "        q1 = [[el[0] for el in row] for row in self.world]\n",
    "        q2 = [[el[1] for el in row] for row in self.world]\n",
    "\n",
    "        plt.figure(1)\n",
    "        plt.subplot(211)\n",
    "        plt.title('World q1:')\n",
    "        plt.axis('off')\n",
    "        plt.imshow(q1)\n",
    "        \n",
    "        plt.subplot(212)\n",
    "        plt.title('World q2:')\n",
    "        plt.axis('off')\n",
    "        plt.imshow(q2)\n",
    "        \n",
    "        plt.subplots_adjust(hspace=0.5)\n",
    "        \n",
    "        plt.show()  "
   ]
  },
  {
   "cell_type": "code",
   "execution_count": 22,
   "metadata": {},
   "outputs": [],
   "source": [
    "# A bunch of global functions here.\n",
    "\n",
    "def mean_neighbors(i,j,f):\n",
    "    # return mean of q1 in neighbors around i,j in f\n",
    "    total,cells = 0,0\n",
    "    maxx = len(f)-1\n",
    "    maxy = len(f[0])-1\n",
    "    for x in (i-1,i,i+1):\n",
    "        for y in (j-1,j,j+1):\n",
    "            if not (x>maxx or y>maxy) and not (x<0 or y<0) and not (x==i and y == j):\n",
    "                total += f[x][y][0]\n",
    "                cells += 1\n",
    "    return total/cells\n",
    "\n",
    "def shuffler(w):\n",
    "    # takes a world, returns a randomly shuffled array of pixels\n",
    "    shuffled = []\n",
    "    for row in w:\n",
    "        for el in row:\n",
    "            shuffled.append(el)\n",
    "    np.random.shuffle(shuffled)\n",
    "    return shuffled\n",
    "\n",
    "def reconstruct(w):\n",
    "    # the business! given a pixel array, it finds all the possible neighborhoods\n",
    "    #, then for each pixel, finds the neighborhood that satisfies pixel_law\n",
    "    # It returns a list of [pixel, neighborhood] pairs.\n",
    "    \n",
    "    start = time.time()\n",
    "    neighborhoods = []\n",
    "    corner_nhoods = list(itertools.combinations(w,3))\n",
    "    side_nhoods = list(itertools.combinations(w,5))\n",
    "    middle_nhoods = list(itertools.combinations(w,8))\n",
    "    nhoods = [corner_nhoods,side_nhoods,middle_nhoods]\n",
    "    for i, el in enumerate(w):\n",
    "        # go through the pixels of w, and find the correct nhood\n",
    "        el_nhood = find_nhood(el,nhoods) # None if the nhood isn't a match\n",
    "        neighborhoods.append([el,el_nhood])\n",
    "    end = time.time()\n",
    "    print 'reconstructing took %s seconds' %(end-start)\n",
    "    return neighborhoods\n",
    "    \n",
    "def find_nhood(el, nhoods):\n",
    "    # given a pixel, checks the 3,5 and 8-membered neighborhoods\n",
    "    corners, sides, middles = nhoods\n",
    "    try_corner = check_nhoods(el,corners)\n",
    "    if try_corner:\n",
    "        return try_corner\n",
    "    try_side = check_nhoods(el,sides)\n",
    "    if try_side:\n",
    "        return try_side\n",
    "    try_middle = check_nhoods(el,middles)\n",
    "    if try_middle:\n",
    "        return try_middle\n",
    "    return None\n",
    "\n",
    "def mean_q1(nhood):\n",
    "    # given a group of pixels, returns mean q1\n",
    "    mean = 0\n",
    "    for el in nhood:\n",
    "        mean += el[0]\n",
    "    return mean/len(nhood)\n",
    "\n",
    "def check_nhoods(el,neighborhoods):\n",
    "    # this function takes a pixel and a list of neighborhoods, then returns \n",
    "    # the nhood that satisfies pixel_law\n",
    "    for n in neighborhoods:\n",
    "        if round(el[1],10) == round(mean_q1(n),10): #ok the rounding is weird. Apparently np.random.shuffle creates some kind of rounding error??\n",
    "            return n\n",
    "\n",
    "class Puzzle:\n",
    "    # given a list of [pixel,neighborhood] pairs, reconstructs a consistent\n",
    "    # arrangement. A feature, not a bug: it's blind to symmetries of rotation/\n",
    "    # reflection.\n",
    "    \n",
    "    # strategy: randomly fill one corner, fill one side, then the other side, then move to (1,1) and repeat\n",
    "    # not the most elegant algorithm.\n",
    "    \n",
    "    def __init__(self, nhoods):\n",
    "        self.nhoods = nhoods\n",
    "        self.grid = [[]]\n",
    "        self.corners = [el for el in self.nhoods if len(el[1]) == 3]\n",
    "        self.sides = [el for el in self.nhoods if len(el[1]) == 5]\n",
    "        self.filling = [el for el in self.nhoods if len(el[1]) == 8]\n",
    "        print 'corners: %s' %len(self.corners)\n",
    "        print 'sides: %s' %len(self.sides)\n",
    "        print 'filling: %s' %len(self.filling)\n",
    "        self.x = 0\n",
    "        self.y = 0\n",
    "        self.used = []\n",
    "        self.rows = 0\n",
    "        self.columns = 0\n",
    "        self.grid[0].append(self.corners[0])\n",
    "        self.used.append(self.corners[0][0])\n",
    "        \n",
    "    def fill_xside(self):\n",
    "        # it's\n",
    "        while self.x==0:\n",
    "            self.add_xside()\n",
    "    \n",
    "    def fill_yside(self):\n",
    "        while self.y==0:\n",
    "            self.add_yside()\n",
    "        \n",
    "    def add_xside(self):\n",
    "        x,y = self.x, self.y #the last added square\n",
    "        leftbound = self.grid[x][y] #the element to the left\n",
    "        otherside = self.grid[x][y-1]\n",
    "        if otherside == leftbound:\n",
    "            otherside = []\n",
    "        visible_corner = [c for c in self.corners if c[0] in leftbound[1] and c[0] not in self.used]\n",
    "        if visible_corner:\n",
    "            vc = visible_corner[0]\n",
    "            self.grid[x].append(visible_corner[0])\n",
    "            self.rows = self.y\n",
    "            self.x += 1\n",
    "            self.y = 0\n",
    "        else:\n",
    "            side_candidates = [s for s in self.sides if s[0] in leftbound[1] and s[0] not in self.used]\n",
    "            if otherside:\n",
    "                side_candidates = [s for s in side_candidates if s[0] not in otherside[1]]\n",
    "            self.grid[x].append(side_candidates[0])\n",
    "            self.used.append(side_candidates[0][0])\n",
    "            self.y += 1\n",
    "                \n",
    "    def add_yside(self):\n",
    "        x,y = self.x, self.y #where to start\n",
    "        leftbound = self.grid[x][y] #the element to the left\n",
    "        otherside = self.grid[x-1][y]\n",
    "        if otherside == leftbound:\n",
    "            otherside = []\n",
    "        visible_corner = [c for c in self.corners if c[0] in leftbound[1] and c[0] not in self.used]\n",
    "        if visible_corner:\n",
    "            vc = visible_corner[0]\n",
    "            self.grid.append([visible_corner[0]])\n",
    "            self.columns = self.x\n",
    "            self.y += 1\n",
    "            self.x = 0\n",
    "        else:\n",
    "            side_candidates = [s for s in self.sides if s[0] in leftbound[1] and s[0] not in self.used]\n",
    "            if otherside:\n",
    "                side_candidates = [s for s in side_candidates if s[0] not in otherside[1]]\n",
    "\n",
    "            self.grid.append([side_candidates[0]])\n",
    "            self.used.append(side_candidates[0][0])\n",
    "            self.x += 1\n",
    "\n",
    "    def fill(self):\n",
    "        for column in range(1,self.columns+2):\n",
    "            for row in range(1,self.rows+2):\n",
    "                #start with (1,1)\n",
    "                target = [column,row]  #?\n",
    "                n1 = self.grid[column-1][row-1][1]\n",
    "                n2 = self.grid[column][row-1][1]\n",
    "                n3 = self.grid[column-1][row][1]\n",
    "                newbox = [box for box in self.nhoods if box[0] in n1 and box[0] in n2 and box[0] in n3]\n",
    "                self.grid[column].append(newbox[0])\n",
    "    \n",
    "    def solve(self):\n",
    "        self.fill_xside()\n",
    "        self.x = 0\n",
    "        self.y = 0\n",
    "        self.fill_yside()\n",
    "        self.fill()\n",
    "\n",
    "def listify(nhoods):\n",
    "    # turns our ndarrays into simple lists, for easy working\n",
    "    list_nhoods = []\n",
    "    for group in nhoods:\n",
    "        pq1,pq2 = group[0]\n",
    "        pixel = [pq1,pq2]\n",
    "        nhood = [[float(el[0]),float(el[1])] for el in group[1]]\n",
    "        list_nhoods.append([pixel,nhood])\n",
    "    return list_nhoods        \n",
    "        \n",
    "def format_grid(grid):\n",
    "    # removes neighborhoods\n",
    "    new_grid = []\n",
    "    for row in grid:\n",
    "        nrow = []\n",
    "        for el in row:\n",
    "            nrow.append(el[0])\n",
    "        new_grid.append(nrow)\n",
    "    return new_grid\n",
    "\n",
    "def rebuild_world(neighborhoods):\n",
    "    # takes a list of neighborhoods, creates a Puzzle instance, solves it, returns arranged grid.\n",
    "    puzzle = Puzzle(neighborhoods)\n",
    "    puzzle.solve()\n",
    "    return puzzle.grid\n",
    "\n",
    "def draw(world):\n",
    "    # gotta see things\n",
    "    q1 = [[el[0] for el in row] for row in world]\n",
    "    q2 = [[el[1] for el in row] for row in world]\n",
    "\n",
    "    plt.figure(1)\n",
    "    plt.subplot(211)\n",
    "    plt.title('World q1:')\n",
    "    plt.axis('off')\n",
    "    plt.imshow(q1)\n",
    "\n",
    "    plt.subplot(212)\n",
    "    plt.title('World q2:')\n",
    "    plt.axis('off')\n",
    "    plt.imshow(q2)\n",
    "\n",
    "    plt.subplots_adjust(hspace=0.5)\n",
    "\n",
    "    plt.show()"
   ]
  },
  {
   "cell_type": "code",
   "execution_count": 13,
   "metadata": {
    "collapsed": true
   },
   "outputs": [],
   "source": [
    "world = Color_world() # random starting point"
   ]
  },
  {
   "cell_type": "code",
   "execution_count": 14,
   "metadata": {},
   "outputs": [],
   "source": [
    "world.initialize_random(5,5)"
   ]
  },
  {
   "cell_type": "code",
   "execution_count": 15,
   "metadata": {},
   "outputs": [
    {
     "data": {
      "image/png": "[encoded data removed]",
      "text/plain": [
       "<matplotlib.figure.Figure at 0x10c9b8b50>"
      ]
     },
     "metadata": {},
     "output_type": "display_data"
    }
   ],
   "source": [
    "world.draw() # here are the arrangements of quantities"
   ]
  },
  {
   "cell_type": "code",
   "execution_count": 23,
   "metadata": {},
   "outputs": [],
   "source": [
    "world.shuffled = shuffler(world.world) # randomize!"
   ]
  },
  {
   "cell_type": "code",
   "execution_count": 17,
   "metadata": {},
   "outputs": [
    {
     "name": "stdout",
     "output_type": "stream",
     "text": [
      "reconstructing took 26.7097418308 seconds\n"
     ]
    }
   ],
   "source": [
    "world.reconstructed = reconstruct(world.shuffled) # returns the correct neighborhood structure"
   ]
  },
  {
   "cell_type": "code",
   "execution_count": 41,
   "metadata": {
    "scrolled": false
   },
   "outputs": [
    {
     "name": "stdout",
     "output_type": "stream",
     "text": [
      "corners: 4\n",
      "sides: 12\n",
      "filling: 9\n"
     ]
    }
   ],
   "source": [
    "# use the neighborhood structure to rearrange the randomize pixels\n",
    "world.puzzle = format_grid(rebuild_world(listify(world.reconstructed))) "
   ]
  },
  {
   "cell_type": "code",
   "execution_count": 19,
   "metadata": {},
   "outputs": [
    {
     "data": {
      "image/png": "[encoded data removed]",
      "text/plain": [
       "<matplotlib.figure.Figure at 0x10e369050>"
      ]
     },
     "metadata": {},
     "output_type": "display_data"
    }
   ],
   "source": [
    "# As a reminder: here's what we started with:\n",
    "world.draw()"
   ]
  },
  {
   "cell_type": "code",
   "execution_count": 20,
   "metadata": {},
   "outputs": [
    {
     "data": {
      "image/png": "[encoded data removed]",
      "text/plain": [
       "<matplotlib.figure.Figure at 0x10c9b8b50>"
      ]
     },
     "metadata": {},
     "output_type": "display_data"
    }
   ],
   "source": [
    "# Here's our reconstructed world: (since the laws don't care about rotations or reflections, \n",
    "# these might be simple transformations of the starting point.)\n",
    "draw(world.puzzle)"
   ]
  },
  {
   "cell_type": "code",
   "execution_count": 104,
   "metadata": {
    "collapsed": true
   },
   "outputs": [],
   "source": [
    "# I thought it might be possible to speed this up by using a generator instead of creating a\n",
    "# list of neighborhoods.\n",
    "    #     - generate nhoods as we go, instead of generating all first then checking them\n",
    "    #     - assume there will be a unique correct nhood, so stop as soon as one is found.\n",
    "\n",
    "# It's a little faster: ~20s vs ~26s\n",
    "\n",
    "def try_nhoods2(w,el,n):\n",
    "    # take all n-membered hoods in w, check if it satisfies the law\n",
    "    nhooditer = (itertools.combinations(w,n))\n",
    "    target = round(el[1],10) \n",
    "    for nhood in nhooditer:\n",
    "        attempt = round(mean_q1(nhood),10)\n",
    "        if target == attempt:\n",
    "            print 'found: %s == %s' %(target, attempt)\n",
    "            return nhood\n",
    "    return None\n",
    "        \n",
    "def reconstruct2(w):\n",
    "    start = time.time()\n",
    "    neighborhoods = []\n",
    "    for el in w:\n",
    "        neighborhoods.append([el,find_nhood2(w,el)])\n",
    "    end = time.time()\n",
    "    print 'reconstructing took %s seconds' %(end-start)\n",
    "    return neighborhoods\n",
    "    \n",
    "def find_nhood2(w,el):\n",
    "    try_corner2 = try_nhoods2(w,el,3)\n",
    "    if try_corner2:\n",
    "        return try_corner2\n",
    "    try_side2 = try_nhoods2(w,el,5)\n",
    "    if try_side2:\n",
    "        return try_side2\n",
    "    try_middle2 = try_nhoods2(w,el,8)\n",
    "    if try_middle2:\n",
    "        return try_middle2"
   ]
  },
  {
   "cell_type": "code",
   "execution_count": 105,
   "metadata": {},
   "outputs": [
    {
     "name": "stdout",
     "output_type": "stream",
     "text": [
      "found: 0.7514393447 == 0.7514393447\n",
      "found: 0.5507120411 == 0.5507120411\n",
      "found: 0.4738690995 == 0.4738690995\n",
      "found: 0.6109494281 == 0.6109494281\n",
      "found: 0.5859566804 == 0.5859566804\n",
      "found: 0.5580909225 == 0.5580909225\n",
      "found: 0.5323242236 == 0.5323242236\n",
      "found: 0.5268823297 == 0.5268823297\n",
      "found: 0.6673723128 == 0.6673723128\n",
      "found: 0.5313900218 == 0.5313900218\n",
      "found: 0.6493864228 == 0.6493864228\n",
      "found: 0.6872761155 == 0.6872761155\n",
      "found: 0.5675370834 == 0.5675370834\n",
      "found: 0.5999172642 == 0.5999172642\n",
      "found: 0.536261048 == 0.536261048\n",
      "found: 0.6434679754 == 0.6434679754\n",
      "found: 0.7592144963 == 0.7592144963\n",
      "found: 0.4850405204 == 0.4850405204\n",
      "found: 0.5739303299 == 0.5739303299\n",
      "found: 0.5864230033 == 0.5864230033\n",
      "found: 0.4795891804 == 0.4795891804\n",
      "found: 0.5675439024 == 0.5675439024\n",
      "found: 0.6251080881 == 0.6251080881\n",
      "found: 0.6890652411 == 0.6890652411\n",
      "found: 0.7397009606 == 0.7397009606\n",
      "reconstructing took 26.0954191685 seconds\n"
     ]
    }
   ],
   "source": [
    "generator_version = reconstruct2(world.shuffled)"
   ]
  },
  {
   "cell_type": "code",
   "execution_count": null,
   "metadata": {
    "collapsed": true
   },
   "outputs": [],
   "source": []
  }
 ],
 "metadata": {
  "kernelspec": {
   "display_name": "Python 2",
   "language": "python",
   "name": "python2"
  },
  "language_info": {
   "codemirror_mode": {
    "name": "ipython",
    "version": 2
   },
   "file_extension": ".py",
   "mimetype": "text/x-python",
   "name": "python",
   "nbconvert_exporter": "python",
   "pygments_lexer": "ipython2",
   "version": "2.7.10"
  }
 },
 "nbformat": 4,
 "nbformat_minor": 2
}
